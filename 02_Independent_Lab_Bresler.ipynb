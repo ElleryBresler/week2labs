{
 "cells": [
  {
   "cell_type": "markdown",
   "id": "8bc85d3e-527c-4cfd-bfaf-fffa8fdee265",
   "metadata": {},
   "source": [
    "### BGEN632 Graduate Introduction to Python\n",
    "### 02 Independent Lab\n",
    "### Ellery Bresler\n",
    "### 03/10/2025\n",
    "\n",
    "## Welcome to my Fahrenheit to Celsius converter!"
   ]
  },
  {
   "cell_type": "code",
   "execution_count": 2,
   "id": "63399268-6abb-43e7-9da0-51712f808e49",
   "metadata": {},
   "outputs": [],
   "source": [
    "celsius = 0.0\n",
    "fahrenheit = 0.0\n",
    "\n",
    "Fahrenheit = (9 / 5) * celsius + 32"
   ]
  },
  {
   "cell_type": "markdown",
   "id": "ea39663c-1a5c-4211-88c1-f3438f53af2c",
   "metadata": {},
   "source": [
    "I chose to use a float because temperatures can have decimals this in my opinion will be more accurate"
   ]
  },
  {
   "cell_type": "code",
   "execution_count": 14,
   "id": "1d47bda2-cb6a-4d18-b489-4c8ddc7510e1",
   "metadata": {},
   "outputs": [
    {
     "name": "stdin",
     "output_type": "stream",
     "text": [
      "Please provide a value, in Celsius, to convert:\n",
      " 37\n"
     ]
    },
    {
     "name": "stdout",
     "output_type": "stream",
     "text": [
      "37.0 degrees Celsius is 98.60000000000001 degrees Fahrenheit.\n",
      "<class 'int'>\n"
     ]
    }
   ],
   "source": [
    "celsius = float(input(\"Please provide a value, in Celsius, to convert:\\n\"))\n",
    "fahrenheit = (9 / 5) * celsius + 32\n",
    "\n",
    "print(f\"{celsius} degrees Celsius is {fahrenheit} degrees Fahrenheit.\")\n",
    "\n",
    "int_fahrenheit = int(fahrenheit)\n",
    "\n",
    "print(type(int_fahrenheit))"
   ]
  },
  {
   "cell_type": "code",
   "execution_count": null,
   "id": "613f3b86-70b9-49fe-919e-650860a65760",
   "metadata": {},
   "outputs": [],
   "source": []
  }
 ],
 "metadata": {
  "kernelspec": {
   "display_name": "Python 3 (ipykernel)",
   "language": "python",
   "name": "python3"
  },
  "language_info": {
   "codemirror_mode": {
    "name": "ipython",
    "version": 3
   },
   "file_extension": ".py",
   "mimetype": "text/x-python",
   "name": "python",
   "nbconvert_exporter": "python",
   "pygments_lexer": "ipython3",
   "version": "3.13.2"
  }
 },
 "nbformat": 4,
 "nbformat_minor": 5
}
